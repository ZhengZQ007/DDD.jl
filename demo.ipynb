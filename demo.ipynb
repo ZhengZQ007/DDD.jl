{
 "cells": [
  {
   "cell_type": "markdown",
   "metadata": {},
   "source": [
    "# DDD.jl\r\n",
    "\r\n",
    "This is a tutorial and demo of `DDD.jl`."
   ]
  },
  {
   "cell_type": "markdown",
   "metadata": {},
   "source": [
    "We start by loading `DDD`."
   ]
  },
  {
   "cell_type": "code",
   "execution_count": null,
   "metadata": {},
   "outputs": [],
   "source": [
    "using DDD"
   ]
  },
  {
   "cell_type": "markdown",
   "metadata": {},
   "source": [
    "To start off, we need to set up some parameters that control certain aspects of the systems we will be simulating. These will be used to generate and control all aspects of the system we want to model.\r\n",
    "\r\n",
    "There are various ways of creating these, but here we will create them using named constructors because we can leverage the fact that they perform validations and automatically calculate derived values."
   ]
  },
  {
   "cell_type": "code",
   "execution_count": null,
   "metadata": {},
   "outputs": [],
   "source": [
    "dlnParams = DislocationParameters(;\r\n",
    "    mobility = mobBCC(),\r\n",
    "    dragCoeffs = (edge = 1, screw = 1e-1, climb = 1e9),\r\n",
    "    coreRad = 0.015 * sqrt(2),\r\n",
    "    minSegLen = 0.15 * sqrt(2),\r\n",
    "    maxSegLen = 1.5 * sqrt(2),\r\n",
    "    coreEnergy = 1 / (4 * π) * log(0.015 * sqrt(2) / 3.5e-5),\r\n",
    "    coreRadMag = 3.5e-4,\r\n",
    ")\r\n",
    "\r\n",
    "matParams = MaterialParameters(;\r\n",
    "    crystalStruct = BCC(),\r\n",
    "    μ = 1,\r\n",
    "    μMag = 80e3,\r\n",
    "    ν = 0.25,\r\n",
    ")\r\n",
    "\r\n",
    "femParams = FEMParameters(;\r\n",
    "    type = DispatchRegularCuboidMesh(),\r\n",
    "    order = LinearElement(),\r\n",
    "    model = CantileverLoad(),\r\n",
    "    dx = 43.0,\r\n",
    "    dy = 37.0,\r\n",
    "    dz = 31.0,\r\n",
    "    mx = 17,\r\n",
    "    my = 13,\r\n",
    "    mz = 11\r\n",
    ")\r\n",
    "\r\n",
    "slipSystems = SlipSystem(;\r\n",
    "    crystalStruct = BCC(),\r\n",
    "    slipPlane = Float64[-1 1 ;1 -1;0 0],\r\n",
    "    bVec = Float64[1 1;1 1;1 -1]\r\n",
    ")\r\n",
    "\r\n",
    "intParams = IntegrationParameters(;\r\n",
    "    method = AdaptiveEulerTrapezoid(),\r\n",
    "    abstol = dlnParams.collisionDist / 2,\r\n",
    "    reltol = dlnParams.collisionDist / 2,\r\n",
    ")\r\n",
    "\r\n",
    "intTime = IntegrationTime(;\r\n",
    "    dt = 0.0,\r\n",
    "    time = 0.0\r\n",
    ")"
   ]
  },
  {
   "cell_type": "markdown",
   "metadata": {},
   "source": [
    "We can see the fields of these structures by using the `fieldnames()` function on their types."
   ]
  },
  {
   "cell_type": "code",
   "execution_count": null,
   "metadata": {},
   "outputs": [],
   "source": [
    "# Either on the type of the variable.\r\n",
    "fieldnames(typeof(matParams))\r\n",
    "# Or directly on the type itself.\r\n",
    "fieldnames(DislocationParameters)"
   ]
  },
  {
   "cell_type": "markdown",
   "metadata": {},
   "source": [
    "We can also browse the documentation for additional information. Say we want to find out more about the function `DislocationParameters`."
   ]
  },
  {
   "cell_type": "code",
   "execution_count": null,
   "metadata": {},
   "outputs": [],
   "source": [
    "?DislocationParameters"
   ]
  },
  {
   "cell_type": "markdown",
   "metadata": {},
   "source": [
    "`?` is used to browse for the documentation of types and functions. When used on variables, it provides type information."
   ]
  },
  {
   "cell_type": "code",
   "execution_count": null,
   "metadata": {},
   "outputs": [],
   "source": [
    "?femParams"
   ]
  },
  {
   "cell_type": "markdown",
   "metadata": {},
   "source": [
    "Note how the types of all fields are reported back. The summary also provides the type heirarchy of the variable. This information allows the compiler to optimise code and enables one of the most powerful features of Julia, multiple dispatch."
   ]
  },
  {
   "cell_type": "markdown",
   "metadata": {},
   "source": [
    "The fields in a structure can be accessed via the dot syntax in the same way it's done in Python and Matlab. \r\n",
    "\r\n",
    "Julia draws heavy inspiration from functiional languages, so a lot of its syntax is syntactic sugar for functions. For example, accessing fields via dot syntax is syntactic sugar for `getproperty()`. Other examples of syntactic sugar include accessing and setting the values of array entries. "
   ]
  },
  {
   "cell_type": "code",
   "execution_count": null,
   "metadata": {},
   "outputs": [],
   "source": [
    "femParams.model"
   ]
  },
  {
   "cell_type": "markdown",
   "metadata": {},
   "source": [
    "`CantileverLoad()` is a concrete type. It is used to set the appropriate boundary conditions by using multiple dispatch later on."
   ]
  },
  {
   "cell_type": "markdown",
   "metadata": {},
   "source": [
    "With all the parameters in place, we can start generating the data to be used in the simulation. The variable `regularCuboidMesh` contains all the information regarding the mesh. The constructor uses the canonical node numbering to minimise the need for custom code."
   ]
  },
  {
   "cell_type": "code",
   "execution_count": null,
   "metadata": {},
   "outputs": [],
   "source": [
    "regularCuboidMesh = buildMesh(matParams, femParams)"
   ]
  },
  {
   "cell_type": "markdown",
   "metadata": {},
   "source": [
    "We can easily visualise the surface nodes. Julia has a robust plotting library with multiple backends, we will use `plotlyjs()` because it generates interactive plots and has great 3D capabilities."
   ]
  },
  {
   "cell_type": "code",
   "execution_count": null,
   "metadata": {},
   "outputs": [],
   "source": [
    "using Plots\r\n",
    "plotlyjs()\r\n",
    "figFE = plotFEDomain(regularCuboidMesh)"
   ]
  },
  {
   "cell_type": "markdown",
   "metadata": {},
   "source": [
    "With the `regularCuboidMesh` and `femParams`, we can define the boundary conditions and prepare the necessary structures."
   ]
  },
  {
   "cell_type": "code",
   "execution_count": null,
   "metadata": {},
   "outputs": [],
   "source": [
    "cantileverBC, forceDisplacement = Boundaries(femParams, regularCuboidMesh)"
   ]
  },
  {
   "cell_type": "markdown",
   "metadata": {},
   "source": [
    "`Boundaries()` function accepts keyword arguments that let the user modify the boundary nodes, but we've used the defaults. Which can also be plotted."
   ]
  },
  {
   "cell_type": "code",
   "execution_count": null,
   "metadata": {},
   "outputs": [],
   "source": [
    "figBound = plotBoundaries(cantileverBC, regularCuboidMesh)"
   ]
  },
  {
   "cell_type": "markdown",
   "metadata": {},
   "source": [
    "Now that we have our FE domain we can populate it with dislocations. First we create our initial loops, then we use those loops to create a network that follows the specifications set by loop structures."
   ]
  },
  {
   "cell_type": "code",
   "execution_count": null,
   "metadata": {},
   "outputs": [],
   "source": [
    "dx, dy, dz = regularCuboidMesh.dx, regularCuboidMesh.dy, regularCuboidMesh.dz\r\n",
    "segLen = (dlnParams.minSegLen + dlnParams.maxSegLen) / 2\r\n",
    "\r\n",
    "prismOct = DislocationLoop(;\r\n",
    "    loopType = loopPrism(),\r\n",
    "    numSides = 8,\r\n",
    "    nodeSide = 1,\r\n",
    "    numLoops = 20,\r\n",
    "    segLen = segLen * ones(8),\r\n",
    "    slipSystemIdx = 1,\r\n",
    "    slipSystem = slipSystems,\r\n",
    "    label = nodeTypeDln.(ones(Int, 8)),\r\n",
    "    buffer = 0,\r\n",
    "    range = [0 dx; 0 dy; 0 dz],\r\n",
    "    dist = Rand()\r\n",
    ")\r\n",
    "\r\n",
    "shearPent = DislocationLoop(;\r\n",
    "    loopType = loopShear(),\r\n",
    "    numSides = 5,\r\n",
    "    nodeSide = 2,\r\n",
    "    numLoops = 30,\r\n",
    "    segLen = segLen * ones(10),\r\n",
    "    slipSystemIdx = 2,\r\n",
    "    slipSystem = slipSystems,\r\n",
    "    label = nodeTypeDln.(ones(Int, 10)),\r\n",
    "    buffer = 0,\r\n",
    "    range = [0 dx; 0 dy; 0 dz],\r\n",
    "    dist = Rand()\r\n",
    ")\r\n",
    "\r\n",
    "network = DislocationNetwork((prismOct, shearPent))"
   ]
  },
  {
   "cell_type": "markdown",
   "metadata": {},
   "source": [
    "We can visualise the loops on their own."
   ]
  },
  {
   "cell_type": "code",
   "execution_count": null,
   "metadata": {},
   "outputs": [],
   "source": [
    "dlnFig = plotNodes(\r\n",
    "    prismOct,\r\n",
    "    m = 2,\r\n",
    "    l = 3,\r\n",
    "    linecolor = :blue,\r\n",
    "    markershape = :circle,\r\n",
    "    markercolor = :blue,\r\n",
    "    legend = false,\r\n",
    ")\r\n",
    "plotNodes!(\r\n",
    "    dlnFig,\r\n",
    "    shearPent,\r\n",
    "    m = 2,\r\n",
    "    l = 3,\r\n",
    "    linecolor = :red,\r\n",
    "    markerstyle = :square,\r\n",
    "    markercolor = :red,\r\n",
    "    legend = false,\r\n",
    ")"
   ]
  },
  {
   "cell_type": "markdown",
   "metadata": {},
   "source": [
    "We can visualise the network on its own, without the FE domain."
   ]
  },
  {
   "cell_type": "code",
   "execution_count": null,
   "metadata": {},
   "outputs": [],
   "source": [
    "networkFig = plotNodes(\r\n",
    "    network,\r\n",
    "    m = 2,\r\n",
    "    l = 3,\r\n",
    "    linecolor = :blue,\r\n",
    "    markershape = :circle,\r\n",
    "    markercolor = :blue,\r\n",
    "    legend = false,\r\n",
    ")"
   ]
  },
  {
   "cell_type": "markdown",
   "metadata": {},
   "source": [
    "Or we can visualise the network with the FE domain around it."
   ]
  },
  {
   "cell_type": "code",
   "execution_count": null,
   "metadata": {},
   "outputs": [],
   "source": [
    "networkFEFig = plotNodes(\r\n",
    "    regularCuboidMesh,\r\n",
    "    network,\r\n",
    "    m = 2,\r\n",
    "    l = 3,\r\n",
    "    linecolor = :blue,\r\n",
    "    markershape = :circle,\r\n",
    "    markercolor = :blue,\r\n",
    "    legend = false,\r\n",
    ")"
   ]
  }
 ],
 "metadata": {
  "kernelspec": {
   "display_name": "Julia 1.6.0",
   "language": "julia",
   "name": "julia-1.6"
  },
  "language_info": {
   "name": "julia",
   "version": ""
  },
  "orig_nbformat": 2
 },
 "nbformat": 4,
 "nbformat_minor": 2
}