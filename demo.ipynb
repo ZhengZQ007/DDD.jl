{
 "cells": [
  {
   "cell_type": "markdown",
   "metadata": {},
   "source": [
    "# DDD.jl\r\n",
    "\r\n",
    "This is a tutorial and demo of `DDD.jl`."
   ]
  },
  {
   "cell_type": "markdown",
   "metadata": {},
   "source": [
    "We start by loading `DDD`. We also load the standard library `Plots` for plotting and `LinearAlgebra` for cross products. We want to make interactive plots via `PlotlyJS` but it's not a dependancy of `DDD.jl` so we have to add it to the notebook."
   ]
  },
  {
   "cell_type": "code",
   "execution_count": null,
   "metadata": {},
   "outputs": [],
   "source": [
    "using DDD, Plots, LinearAlgebra, Pkg\r\n",
    "Pkg.add(\"PlotlyJS\")\r\n",
    "plotlyjs()"
   ]
  },
  {
   "cell_type": "markdown",
   "metadata": {},
   "source": [
    "## Parameters\r\n",
    "\r\n",
    "After loading the package, we need to set up some parameters that control all aspects of the systems we will be simulating.\r\n",
    "\r\n",
    "There are various ways of creating these, but here we use named constructors because they perform validations and automatically calculate derived values. \r\n",
    "\r\n",
    "We could also create them manually without validation by using the intrinsic structure constructors, or override the defaults on the named constructor. We can also load parameters using `JSON` or `jld2` files, which we show later.\r\n",
    "\r\n",
    "!!! note \r\n",
    "    In interactive mode, Julia displays the output of its commands. The structures are rather large and the display will clutter the terminal, so we supress them by adding a `;` to the end of each command. This is only necessary when working in the REPL or notebooks."
   ]
  },
  {
   "cell_type": "code",
   "execution_count": null,
   "metadata": {},
   "outputs": [],
   "source": [
    "dlnParams = DislocationParameters(;\r\n",
    "    mobility = mobBCC(),\r\n",
    "    dragCoeffs = (edge = 1, screw = 1e-1, climb = 1e9, line = 1e-5),\r\n",
    "    coreRad = 0.015 * sqrt(2),\r\n",
    "    minSegLen = 0.15 * sqrt(2),\r\n",
    "    maxSegLen = 1.5 * sqrt(2),\r\n",
    "    coreEnergy = 1 / (4 * π) * log(0.015 * sqrt(2) / 3.5e-5),\r\n",
    "    coreRadMag = 3.5e-4,\r\n",
    ");\r\n",
    "\r\n",
    "matParams = MaterialParameters(; crystalStruct = BCC(), μ = 1, μMag = 80e3, ν = 0.25);\r\n",
    "\r\n",
    "femParamsC = FEMParameters(;\r\n",
    "    type = DispatchRegularCuboidMesh(),\r\n",
    "    order = LinearElement(),\r\n",
    "    model = CantileverLoad(),\r\n",
    "    dx = 23.0,\r\n",
    "    dy = 17.0,\r\n",
    "    dz = 13.0,\r\n",
    "    mx = 7,\r\n",
    "    my = 5,\r\n",
    "    mz = 3,\r\n",
    ");\r\n",
    "\r\n",
    "slipSystems = SlipSystem(;\r\n",
    "    crystalStruct = BCC(),\r\n",
    "    slipPlane = Float64[-1 1; 1 -1; 0 0],\r\n",
    "    bVec = Float64[1 1; 1 1; 1 -1],\r\n",
    ");\r\n",
    "\r\n",
    "intParams = IntegrationParameters(;\r\n",
    "    method = AdaptiveEulerTrapezoid(),\r\n",
    "    abstol = dlnParams.collisionDist / 2,\r\n",
    "    reltol = dlnParams.collisionDist / 2,\r\n",
    ");\r\n",
    "\r\n",
    "intTime = IntegrationTime(; dt = 0.0, time = 0.0);"
   ]
  },
  {
   "cell_type": "markdown",
   "metadata": {},
   "source": [
    "We can see the fields of these structures by using the `fieldnames()` function on their types."
   ]
  },
  {
   "cell_type": "code",
   "execution_count": null,
   "metadata": {},
   "outputs": [],
   "source": [
    "# On the type of the variable.\r\n",
    "fieldnames(typeof(matParams))"
   ]
  },
  {
   "cell_type": "code",
   "execution_count": null,
   "metadata": {},
   "outputs": [],
   "source": [
    "# Directly on the type itself.\r\n",
    "fieldnames(DislocationParameters)"
   ]
  },
  {
   "cell_type": "markdown",
   "metadata": {},
   "source": [
    "We can also browse the documentation for additional information. Say we want to find out more about the function `DislocationParameters`."
   ]
  },
  {
   "cell_type": "code",
   "execution_count": null,
   "metadata": {},
   "outputs": [],
   "source": [
    "?DislocationParameters"
   ]
  },
  {
   "cell_type": "markdown",
   "metadata": {},
   "source": [
    "`?` is used to browse for the documentation of types and functions. When used on variables, it provides type information."
   ]
  },
  {
   "cell_type": "code",
   "execution_count": null,
   "metadata": {},
   "outputs": [],
   "source": [
    "?femParamsC"
   ]
  },
  {
   "cell_type": "markdown",
   "metadata": {},
   "source": [
    "Note how the types of all fields are reported back. The summary also provides the type heirarchy of the variable. This information allows the compiler to optimise code and enables one of the most powerful features of Julia, multiple dispatch."
   ]
  },
  {
   "cell_type": "markdown",
   "metadata": {},
   "source": [
    "The fields in a structure can be accessed via the dot syntax in the same way it's done in Python, Matlab and C.\r\n",
    "\r\n",
    "Julia draws heavy inspiration from functiional languages, so a lot of its syntax is syntactic sugar for functions. For example, accessing fields via dot syntax is syntactic sugar for `getproperty()`. Other examples of syntactic sugar include accessing and setting the values of array entries. "
   ]
  },
  {
   "cell_type": "code",
   "execution_count": null,
   "metadata": {},
   "outputs": [],
   "source": [
    "femParamsC.model"
   ]
  },
  {
   "cell_type": "markdown",
   "metadata": {},
   "source": [
    "`CantileverLoad()` is a concrete type. It is used to set the appropriate boundary conditions by using multiple dispatch later on."
   ]
  },
  {
   "cell_type": "markdown",
   "metadata": {},
   "source": [
    "## Mesh generation\r\n",
    "\r\n",
    "With all the parameters in place, we can start generating the data to be used in the simulation. The variable `meshC` contains all the information regarding the mesh. The constructor uses the canonical node numbering to minimise the need for custom code."
   ]
  },
  {
   "cell_type": "code",
   "execution_count": null,
   "metadata": {},
   "outputs": [],
   "source": [
    "meshC = buildMesh(matParams, femParamsC);"
   ]
  },
  {
   "cell_type": "markdown",
   "metadata": {},
   "source": [
    "If you're curious as to why we're suppressing the display output on all these calls run the following two cells. The first displays the structure with its content, the second only the type information."
   ]
  },
  {
   "cell_type": "code",
   "execution_count": null,
   "metadata": {},
   "outputs": [],
   "source": [
    "meshC"
   ]
  },
  {
   "cell_type": "code",
   "execution_count": null,
   "metadata": {},
   "outputs": [],
   "source": [
    "?meshC"
   ]
  },
  {
   "cell_type": "markdown",
   "metadata": {},
   "source": [
    "One might think all the verbosity is a bad thing, not so. It means the compiler knows exactly the types of each element. In some cases, it even knows the size of some arrays. The power of Julia comes from this robust typing system, which lets the compiler agressively optimise code."
   ]
  },
  {
   "cell_type": "markdown",
   "metadata": {},
   "source": [
    "A neat feature of Julia is that visualisation of large sparse matrices is made very easy via the REPL. We can visualise the stiffness matrix of this mesh on the REPL by simply accessing it. This is equivalent to using `spy()`, but is built into the display functionality."
   ]
  },
  {
   "cell_type": "code",
   "execution_count": null,
   "metadata": {},
   "outputs": [],
   "source": [
    "meshC.K"
   ]
  },
  {
   "cell_type": "markdown",
   "metadata": {},
   "source": [
    "It even works on slices."
   ]
  },
  {
   "cell_type": "code",
   "execution_count": null,
   "metadata": {},
   "outputs": [],
   "source": [
    "meshC.K[1:200, 1:200]"
   ]
  },
  {
   "cell_type": "markdown",
   "metadata": {},
   "source": [
    "## Boundary conditions\r\n",
    "\r\n",
    "Julia has a few plotting libraries, but one of the most robust and developed is `Plots.jl`. It offers multiple backends for multiple needs under a singular interface thanks to multiple dispatch. Here we will use `plotlyjs()` because it generates nice, interactive plots with great 3D capabilities. Matlab's own plotting functionality is based on `PlotlyJS`, so the feel will be familiar to anyone coming from Matlab.\r\n",
    "\r\n",
    "Try double clicking on the label. It lets you select different series. The mesh is created using canonical numberings, so the labels correspond to them (except corners which are lumped together)."
   ]
  },
  {
   "cell_type": "code",
   "execution_count": null,
   "metadata": {},
   "outputs": [],
   "source": [
    "using Plots, Pkg\r\n",
    "Pkg.add(\"PlotlyJS\")\r\n",
    "plotlyjs()"
   ]
  },
  {
   "cell_type": "code",
   "execution_count": null,
   "metadata": {},
   "outputs": [],
   "source": [
    "figFE = plotFEDomain(meshC)"
   ]
  },
  {
   "cell_type": "markdown",
   "metadata": {},
   "source": [
    "With the `meshC` and `femParamsC`, we can define the boundary conditions for modelling a cantilever loading experiment."
   ]
  },
  {
   "cell_type": "code",
   "execution_count": null,
   "metadata": {},
   "outputs": [],
   "source": [
    "boundaryC, forceDispC = Boundaries(femParamsC, meshC);"
   ]
  },
  {
   "cell_type": "markdown",
   "metadata": {},
   "source": [
    "The `Boundaries()` function accepts keyword arguments that let the user modify the boundary nodes. However, we've used the defaults.\r\n",
    "\r\n",
    "We can also plot these to make sure we're doing it right."
   ]
  },
  {
   "cell_type": "code",
   "execution_count": null,
   "metadata": {},
   "outputs": [],
   "source": [
    "figCBC = plotBoundaries(boundaryC, meshC)"
   ]
  },
  {
   "cell_type": "markdown",
   "metadata": {},
   "source": [
    "We've also implemented boundary conditions for pillar loading, though they are yet to be tested."
   ]
  },
  {
   "cell_type": "code",
   "execution_count": null,
   "metadata": {},
   "outputs": [],
   "source": [
    "femParamsP = FEMParameters(;\r\n",
    "    type = DispatchRegularCuboidMesh(),\r\n",
    "    order = LinearElement(),\r\n",
    "    model = PillarLoad(),\r\n",
    "    dx = 17.0,\r\n",
    "    dy = 13.0,\r\n",
    "    dz = 23.0,\r\n",
    "    mx = 5,\r\n",
    "    my = 3,\r\n",
    "    mz = 7,\r\n",
    ");\r\n",
    "meshP = buildMesh(matParams, femParamsP);\r\n",
    "boundaryP, forceDispP = Boundaries(femParamsP, meshP);\r\n",
    "figPBC = plotBoundaries(boundaryP, meshP)"
   ]
  },
  {
   "cell_type": "markdown",
   "metadata": {},
   "source": [
    "## Dislocation generation\r\n",
    "\r\n",
    "We could have created our dislocations and then the FE mesh, but we want to use the mesh parameters to generate the dislocations inside the domain (mostly)."
   ]
  },
  {
   "cell_type": "code",
   "execution_count": null,
   "metadata": {},
   "outputs": [],
   "source": [
    "# Unpack the dimensions and calculate the segment length.\r\n",
    "dx, dy, dz = femParamsC.dx, femParamsC.dy, femParamsC.dz\r\n",
    "segLen = (dlnParams.minSegLen + dlnParams.maxSegLen) / 2"
   ]
  },
  {
   "cell_type": "markdown",
   "metadata": {},
   "source": [
    "There are multiple ways of creating a dislocation network.\r\n",
    "1. Manually, which means we also have to generate the connectivity and segment indices\r\n",
    "    1. via the named constructor, which performs validations;\r\n",
    "    2. via the standard constructor, which does not perform any validation.\r\n",
    "2. Using dislocation loops, which is the preferred method as it performs validations and automatically generates everything else the network we needs.\r\n",
    "\r\n",
    "We can create prismatic and shear loops using the `loopPrism()` and `loopShear()` types.\r\n",
    "\r\n",
    "They will generate 5 octagonal prismatic loops in the first slip system and 3 pentagonal shear loops in the second."
   ]
  },
  {
   "cell_type": "code",
   "execution_count": null,
   "metadata": {},
   "outputs": [],
   "source": [
    "# Prismatic loop with 8 sides, one node per side. \r\n",
    "# When used to generate a network will produce 5 loops.\r\n",
    "prismOct = DislocationLoop(;\r\n",
    "    loopType = loopPrism(), # Prismatic loop\r\n",
    "    numSides = 8,   # 8 Sides\r\n",
    "    nodeSide = 1,   # One node per side\r\n",
    "    numLoops = 5,   # When used to generate a network will create 5 loops\r\n",
    "    segLen = segLen * ones(8), # Every segment will have the same length (regular octahedron)\r\n",
    "    slipSystemIdx = 1,  # Belongs to the first slip system\r\n",
    "    slipSystem = slipSystems, # Slip systems\r\n",
    "    label = nodeTypeDln.(ones(Int, 8)), # Node labels, dictate what type of node it is\r\n",
    "    buffer = 0, # Spacing buffer for distribution in the domain\r\n",
    "    range = [0 dx; 0 dy; 0 dz], # Range of the distribution\r\n",
    "    dist = Rand(), # They will be randomly distributed in the domain\r\n",
    ");\r\n",
    "\r\n",
    "shearPent = DislocationLoop(;\r\n",
    "    loopType = loopShear(), # Shear loop\r\n",
    "    numSides = 5,   # 5 Sides\r\n",
    "    nodeSide = 2,   # Two nodes per side (corner and middle of segments)\r\n",
    "    numLoops = 3,\r\n",
    "    segLen = segLen * ones(10),\r\n",
    "    slipSystemIdx = 2,\r\n",
    "    slipSystem = slipSystems,\r\n",
    "    label = nodeTypeDln.(ones(Int, 10)),\r\n",
    "    buffer = 0,\r\n",
    "    range = [0 dx; 0 dy; 0 dz],\r\n",
    "    dist = Rand(),\r\n",
    ");"
   ]
  },
  {
   "cell_type": "markdown",
   "metadata": {},
   "source": [
    "The type `nodeTypeDln` is an enumerated type. These types can only take on specific values. They provide safety and efficiency when using categorial variables.\r\n",
    "\r\n",
    "In 3D discrete dislocation dynamics we can define nodes as having certain characteristics. We use node labels to enforce this behaviour. \r\n",
    "\r\n",
    "!!! note\r\n",
    "    There is also `nodeTypeFE` but is not currently used and may be removed in the future."
   ]
  },
  {
   "cell_type": "code",
   "execution_count": null,
   "metadata": {},
   "outputs": [],
   "source": [
    "?nodeTypeDln"
   ]
  },
  {
   "cell_type": "markdown",
   "metadata": {},
   "source": [
    "We can visualise the loops on their own. They are generated centered at the origin.\r\n",
    "\r\n",
    "!!! note\r\n",
    "    In Julia, the convention to append a `!` at the end of a function means the function modifies its input."
   ]
  },
  {
   "cell_type": "code",
   "execution_count": null,
   "metadata": {},
   "outputs": [],
   "source": [
    "dlnFig = plotNodes(\r\n",
    "    prismOct,\r\n",
    "    m = 2,\r\n",
    "    l = 3,\r\n",
    "    linecolor = :orange,\r\n",
    "    markershape = :circle,\r\n",
    "    markercolor = :orange,\r\n",
    "    legend = false,\r\n",
    ")\r\n",
    "plotNodes!(\r\n",
    "    dlnFig,\r\n",
    "    shearPent,\r\n",
    "    m = 2,\r\n",
    "    l = 3,\r\n",
    "    linecolor = :purple,\r\n",
    "    markershape = :square,\r\n",
    "    markercolor = :purple,\r\n",
    "    legend = false,\r\n",
    ")"
   ]
  },
  {
   "cell_type": "markdown",
   "metadata": {},
   "source": [
    "We can now use these loops to create the network.\r\n",
    "\r\n",
    "!!! note\r\n",
    "    We use a tuple of loops `(,)` but one can also use vectors `[]`, a single loop or an iterator that returns loops."
   ]
  },
  {
   "cell_type": "code",
   "execution_count": null,
   "metadata": {},
   "outputs": [],
   "source": [
    "network = DislocationNetwork((prismOct, shearPent));"
   ]
  },
  {
   "cell_type": "markdown",
   "metadata": {},
   "source": [
    "We can visualise the network on its own, without the FE domain."
   ]
  },
  {
   "cell_type": "code",
   "execution_count": null,
   "metadata": {},
   "outputs": [],
   "source": [
    "networkFig = plotNodes(\r\n",
    "    network,\r\n",
    "    m = 2,\r\n",
    "    l = 3,\r\n",
    "    linecolor = :blue,\r\n",
    "    markershape = :circle,\r\n",
    "    markercolor = :blue,\r\n",
    "    legend = false,\r\n",
    ")"
   ]
  },
  {
   "cell_type": "markdown",
   "metadata": {},
   "source": [
    "Or we can visualise the network with the FE domain around it."
   ]
  },
  {
   "cell_type": "code",
   "execution_count": null,
   "metadata": {},
   "outputs": [],
   "source": [
    "networkFEFig = plotNodes(\r\n",
    "    meshC,\r\n",
    "    network,\r\n",
    "    m = 2,\r\n",
    "    l = 3,\r\n",
    "    linecolor = :blue,\r\n",
    "    markershape = :circle,\r\n",
    "    markercolor = :blue,\r\n",
    "    legend = false,\r\n",
    ")"
   ]
  },
  {
   "cell_type": "markdown",
   "metadata": {},
   "source": [
    "Using the convention for mutating functions we can add more dislocation loops to the network. Here we're adding more prismatic octagons."
   ]
  },
  {
   "cell_type": "code",
   "execution_count": null,
   "metadata": {},
   "outputs": [],
   "source": [
    "network = DislocationNetwork!(network, prismOct);"
   ]
  },
  {
   "cell_type": "markdown",
   "metadata": {},
   "source": [
    "Which we can also plot."
   ]
  },
  {
   "cell_type": "code",
   "execution_count": null,
   "metadata": {},
   "outputs": [],
   "source": [
    "networkFEFig = plotNodes(\r\n",
    "    meshC,\r\n",
    "    network,\r\n",
    "    m = 2,\r\n",
    "    l = 3,\r\n",
    "    linecolor = :blue,\r\n",
    "    markershape = :circle,\r\n",
    "    markercolor = :blue,\r\n",
    "    legend = false,\r\n",
    ")"
   ]
  },
  {
   "cell_type": "markdown",
   "metadata": {},
   "source": [
    "## Current capabilities\r\n",
    "\r\n",
    "The code comes with a fairly exhaustive set of tests.\r\n",
    "\r\n",
    "Features marked with a tick have been thoroughly tested.\r\n",
    "\r\n",
    "- [x] IO\r\n",
    "    - [x] JSON\r\n",
    "    - [x] jld2\r\n",
    "- [ ] Post-processing\r\n",
    "    - [ ] Plotting\r\n",
    "        - [x] Loops\r\n",
    "        - [x] Network\r\n",
    "        - [x] FE domain\r\n",
    "        - [ ] Boundary conditions\r\n",
    "- [x] Forces\r\n",
    "    - [x] Peach-Köhler in a regular mesh with linear hexahedral elements\r\n",
    "    - [x] Self-forces\r\n",
    "    - [x] O(N^2) remote forces\r\n",
    "    - [x] Total forces\r\n",
    "- [ ] Topology\r\n",
    "    - [x] Internal node remeshing\r\n",
    "    - [x] Surface remeshing\r\n",
    "    - [ ] Virtual remeshing\r\n",
    "    - [ ] Collisions\r\n",
    "        - [x] Collision detection\r\n",
    "        - [ ] Collision resolution\r\n",
    "- [ ] Linear hexahedral FEM\r\n",
    "    - [x] Meshing\r\n",
    "    - [ ] Shape functions\r\n",
    "        - [ ] 2D\r\n",
    "        - [x] 3D\r\n",
    "    - [ ] Gauss quadrature\r\n",
    "        - [x] 1D\r\n",
    "        - [ ] 2D\r\n",
    "        - [ ] 3D\r\n",
    "    - [ ] Boundary conditions\r\n",
    "        - [x] Cantilever loading\r\n",
    "        - [ ] Pillar loading\r\n",
    "- [x] Dislocation-induced displacements\r\n",
    "- [ ] Dislocation-induced tractions\r\n",
    "    - [x] Field point stresses\r\n",
    "    - [ ] Lazy numeric tractions q = 1\r\n",
    "- [x] Mobility\r\n",
    "    - [x] Outdated BCC mobility law\r\n",
    "- [ ] Time integration\r\n",
    "    - [ ] Adaptive euler trapezoid\r\n",
    "    - [ ] Surface velocities"
   ]
  },
  {
   "cell_type": "markdown",
   "metadata": {},
   "source": [
    "We're not going to provide an extensive showing of the tests, for information on test coverage click on either of these badges.\r\n",
    "\r\n",
    "[![Codecov](https://codecov.io/gh/dcelisgarza/DDD.jl/branch/master/graph/badge.svg)](https://codecov.io/gh/dcelisgarza/DDD.jl)\r\n",
    "[![Coveralls](https://coveralls.io/repos/github/dcelisgarza/DDD.jl/badge.svg?branch=master)](https://coveralls.io/github/dcelisgarza/DDD.jl?branch=master)\r\n",
    "\r\n",
    "However we do want to show how the code can be used."
   ]
  },
  {
   "cell_type": "markdown",
   "metadata": {},
   "source": [
    "### Forces\r\n",
    "\r\n",
    "The forces can be calculated for the whole network or specific nodes/collections of nodes.\r\n",
    "\r\n",
    "!!! note\r\n",
    "    Julia has unicode support, so we use `\\approx + Tab` to use `≈` instead of the `isapprox()` function. We don't do a strict comparison because floating point arithmetic is in general non-commutative.\r\n",
    "\r\n",
    "!!! warning\r\n",
    "    We have not yet implemented filtering of virtual segments from force calculations. It should not be difficult."
   ]
  },
  {
   "cell_type": "code",
   "execution_count": null,
   "metadata": {},
   "outputs": [],
   "source": [
    "# Peach-Köhler force. We don't have a function to apply loading yet so we just generate a random applied stress.\r\n",
    "forceDispC.uHat .= rand(-50:50, length(forceDispC.uHat)) .* rand(length(forceDispC.uHat))\r\n",
    "fPK = calcPKForce(meshC, forceDispC, network)\r\n",
    "fPK69 = calcPKForce(meshC, forceDispC, network, 69)\r\n",
    "fPK420 = calcPKForce(meshC, forceDispC, network, [4, 20])\r\n",
    "println(\"fPK[:, 69] ≈ fPK69 : \", fPK[:, 69] ≈ fPK69)\r\n",
    "println(\"fPK[:, [4, 20]] ≈ fPK420 : \", fPK[:, [4, 20]] ≈ fPK420)"
   ]
  },
  {
   "cell_type": "code",
   "execution_count": null,
   "metadata": {},
   "outputs": [],
   "source": [
    "sf = calcSelfForce(dlnParams, matParams, network)\r\n",
    "sf42 = calcSelfForce(dlnParams, matParams, network, 42)\r\n",
    "sf619 = calcSelfForce(dlnParams, matParams, network, [6, 1, 9])\r\n",
    "println(\"sf[1][:, 42] ≈ sf42[1] && sf[2][:, 42] ≈ sf42[2] : \",\r\n",
    "        sf[1][:, 42] ≈ sf42[1] && sf[2][:, 42] ≈ sf42[2])\r\n",
    "println(\"sf[1][:, [6, 1, 9]] ≈ sf619[1] && sf[2][:, [6, 1, 9]] ≈ sf619[2] : \",\r\n",
    "        sf[1][:, [6, 1, 9]] ≈ sf619[1] && sf[2][:, [6, 1, 9]] ≈ sf619[2])"
   ]
  },
  {
   "cell_type": "code",
   "execution_count": null,
   "metadata": {},
   "outputs": [],
   "source": [
    "# Remote forces.\r\n",
    "rf = calcSegSegForce(dlnParams, matParams, network)\r\n",
    "rf13 = calcSegSegForce(dlnParams, matParams, network, 13)\r\n",
    "rf666 = calcSegSegForce(dlnParams, matParams, network, [66, 6])\r\n",
    "println(\"rf[:, :, 13] ≈ rf13 : \", rf[:, :, 13] ≈ rf13)\r\n",
    "println(\"rf[:, :, [66, 6]] ≈ rf666 : \", rf[:, :, [66, 6]] ≈ rf666)"
   ]
  },
  {
   "cell_type": "code",
   "execution_count": null,
   "metadata": {},
   "outputs": [],
   "source": [
    "# Total forces.\r\n",
    "f = calcSegForce(dlnParams, matParams, meshC, forceDispC, network)\r\n",
    "f57 = calcSegForce(dlnParams, matParams, meshC, forceDispC, network, 57)\r\n",
    "f316 = calcSegForce(\r\n",
    "    dlnParams,\r\n",
    "    matParams,\r\n",
    "    meshC,\r\n",
    "    forceDispC,\r\n",
    "    network,\r\n",
    "    [31, 6],\r\n",
    ")\r\n",
    "println(\"f[:, :, 57] ≈ f57 : \", f[:, :, 57] ≈ f57)\r\n",
    "println(\"f[:, :, [31, 6]] ≈ f316 : \", f[:, :, [31, 6]] ≈ f316)"
   ]
  },
  {
   "cell_type": "markdown",
   "metadata": {},
   "source": [
    "All of these functions have in-place versions that modify the network directly so they don't allocate as much memory. \r\n",
    "\r\n",
    "We only show the total force calculation because it aggregates the forces in the network.\r\n",
    "\r\n",
    "!!! note\r\n",
    "    In order to take advantage of immutable structures' perfromance benefits we use 1-element arrays to keep track of the number of segments and nodes."
   ]
  },
  {
   "cell_type": "code",
   "execution_count": null,
   "metadata": {},
   "outputs": [],
   "source": [
    "calcSegForce!(dlnParams, matParams, meshC, forceDispC, network)\r\n",
    "println(\"f ≈ network.segForce[:, :, 1:network.numSeg[1]] : \", f ≈ network.segForce[:, :, 1:network.numSeg[1]])"
   ]
  },
  {
   "cell_type": "markdown",
   "metadata": {},
   "source": [
    "### Mobility\r\n",
    "\r\n",
    "We have an outdated mobility law that has also been tested, however this will change in the future."
   ]
  },
  {
   "cell_type": "code",
   "execution_count": null,
   "metadata": {},
   "outputs": [],
   "source": [
    "nodeForce, nodeVel = dlnMobility(dlnParams, matParams, network)\r\n",
    "dlnMobility!(dlnParams, matParams, network)\r\n",
    "nodeVel ≈ network.nodeVel[:, 1:network.numNode[1]]\r\n",
    "nodeForce ≈ network.nodeForce[:, 1:network.numNode[1]]"
   ]
  },
  {
   "cell_type": "markdown",
   "metadata": {},
   "source": [
    "### Remeshing\r\n",
    "\r\n",
    "We can coarsen and refine the the internal network, however since we used the default parameters nothing will happen.\r\n",
    "\r\n",
    "!!! note\r\n",
    "    If instead you make `minArea = coreRad^2 / sqrt(2)`,\r\n",
    "        ```julia\r\n",
    "        dlnParams = DislocationParameters(;\r\n",
    "            mobility = mobBCC(),\r\n",
    "            dragCoeffs = (edge = 1, screw = 1e-1, climb = 1e9, line = 1e-5),\r\n",
    "            coreRad = 0.015 * sqrt(2),\r\n",
    "            minSegLen = 0.15 * sqrt(2),\r\n",
    "            maxSegLen = 1.5 * sqrt(2),\r\n",
    "            coreRad = 0.015^2 * sqrt(2),\r\n",
    "            coreEnergy = 1 / (4 * π) * log(0.015 * sqrt(2) / 3.5e-5),\r\n",
    "            coreRadMag = 3.5e-4,\r\n",
    "        );\r\n",
    "        ```\r\n",
    "    and refine the network, it will generate nodes in the middle of every segment."
   ]
  },
  {
   "cell_type": "code",
   "execution_count": null,
   "metadata": {},
   "outputs": [],
   "source": [
    "# Remove links that are too small or make small, vanishing hinges.\r\n",
    "network = coarsenNetwork!(dlnParams, matParams, meshC, forceDispC, network);\r\n",
    "# Refine adds nodes to segments that are too long or hinges with sides too large.\r\n",
    "network = refineNetwork!(dlnParams, matParams, meshC, forceDispC, network);\r\n",
    "networkFEFig = plotNodes(\r\n",
    "    meshC,\r\n",
    "    network,\r\n",
    "    m = 2,\r\n",
    "    l = 3,\r\n",
    "    linecolor = :blue,\r\n",
    "    markershape = :circle,\r\n",
    "    markercolor = :blue,\r\n",
    "    legend = false,\r\n",
    ")"
   ]
  },
  {
   "cell_type": "markdown",
   "metadata": {},
   "source": [
    "We can also remesh the surface, if there are any segments poking out of the domain they will be remeshed such that a node is placed on the surface and the other node is projected out.\r\n",
    "\r\n",
    "This is because the displacement calculation uses triangles. However, we also have to prevent dislocations from exiting the fixed end. The impenetrable faces are defined by `Boundaries()`.\r\n",
    "\r\n",
    "The surface remeshing uses nodal velocities to find the intersect with the volume, so we need to make sure we have calculated the forces and nodal velocities beforehand."
   ]
  },
  {
   "cell_type": "code",
   "execution_count": null,
   "metadata": {},
   "outputs": [],
   "source": [
    "# Uncomment following 3 lines to add more loops to network.\r\n",
    "# network = DislocationNetwork!(network, (prismOct, shearPent))\r\n",
    "# calcSegForce!(dlnParams, matParams, meshC, forceDispC, network)\r\n",
    "# dlnMobility!(dlnParams, matParams, network)\r\n",
    "\r\n",
    "# Remesh the surface.\r\n",
    "network = remeshSurfaceNetwork!(meshC, boundaryC, network);\r\n",
    "# Coarsen the internal network.\r\n",
    "network = coarsenNetwork!(dlnParams, matParams, meshC, forceDispC, network);\r\n",
    "# Refine the internal network.\r\n",
    "network = refineNetwork!(dlnParams, matParams, meshC, forceDispC, network);"
   ]
  },
  {
   "cell_type": "markdown",
   "metadata": {},
   "source": [
    "You can keep generating networks or adding more dislocations using `DislocationNetwork!()` as previously shown. \r\n",
    "\r\n",
    "In this case, the impenetrable surface is the `yz` plane at `x = 0`, so any segments that exit from there will be removed and an immovable node will be generated on the surface. Dislocations that exit from other surfaces will be projected out along the face normal of the face it exited out from. They will be projected and the FEM scale, both found in `meshC`. The projection is robust enough to work on corners and edges."
   ]
  },
  {
   "cell_type": "code",
   "execution_count": null,
   "metadata": {},
   "outputs": [],
   "source": [
    "remeshedFig = plotNodes(\r\n",
    "    meshC,\r\n",
    "    network,\r\n",
    "    m = 2,\r\n",
    "    l = 3,\r\n",
    "    linecolor = :blue,\r\n",
    "    markershape = :circle,\r\n",
    "    markercolor = :blue,\r\n",
    "    legend = false,\r\n",
    ")"
   ]
  },
  {
   "cell_type": "markdown",
   "metadata": {},
   "source": [
    "If you would like to see how the nodes are projected run the following cell."
   ]
  },
  {
   "cell_type": "code",
   "execution_count": null,
   "metadata": {},
   "outputs": [],
   "source": [
    "using StaticArrays\r\n",
    "\r\n",
    "function plotNodesProj(mesh::AbstractMesh, network::DislocationNetwork, args...; kw...)\r\n",
    "    label = network.label\r\n",
    "    coord = network.coord\r\n",
    "    links = network.links\r\n",
    "    numNode = network.numNode[1]\r\n",
    "    elemT = eltype(links)\r\n",
    "    fig = plot()\r\n",
    "    for i in 1:numNode\r\n",
    "        n1n2 = SVector{2, elemT}(links[1, i], links[2, i])\r\n",
    "        plot!(fig, coord[1, n1n2], coord[2, n1n2], coord[3, n1n2], args...; kw...)\r\n",
    "    end\r\n",
    "\r\n",
    "    # Plot FEM domain.\r\n",
    "    vertices = reshape(collect(Iterators.flatten(mesh.vertices.vertices)), 3, :)\r\n",
    "    vertices = reshape(collect(Iterators.flatten(mesh.vertices.vertices)), 3, :)\r\n",
    "    face1 = [mesh.faces[:, 5]; mesh.faces[1, 5]]\r\n",
    "    face2 = [mesh.faces[:, 6]; mesh.faces[1, 6]]\r\n",
    "    surf1 = vertices[:, face1]\r\n",
    "    surf2 = vertices[:, face2]\r\n",
    "    plot!(fig, surf1[1, :], surf1[2, :], surf1[3, :], linecolor = :black, linewidth = 2)\r\n",
    "    plot!(fig, surf2[1, :], surf2[2, :], surf2[3, :], linecolor = :black, linewidth = 2)\r\n",
    "    side = vertices[:, [1, 5]]\r\n",
    "    plot!(fig, side[1, :], side[2, :], side[3, :], linecolor = :black, linewidth = 2)\r\n",
    "    side = vertices[:, [2, 6]]\r\n",
    "    plot!(fig, side[1, :], side[2, :], side[3, :], linecolor = :black, linewidth = 2)\r\n",
    "    side = vertices[:, [3, 7]]\r\n",
    "    plot!(fig, side[1, :], side[2, :], side[3, :], linecolor = :black, linewidth = 2)\r\n",
    "    side = vertices[:, [4, 8]]\r\n",
    "    plot!(fig, side[1, :], side[2, :], side[3, :], linecolor = :black, linewidth = 2)\r\n",
    "\r\n",
    "    xlims = (\r\n",
    "        minimum(vertices[1, :]) - 0.5 * maximum(vertices[1, :]),\r\n",
    "        maximum(vertices[1, :]) + 0.5 * maximum(vertices[1, :]),\r\n",
    "    )\r\n",
    "    ylims = (\r\n",
    "        minimum(vertices[2, :]) - 0.5 * maximum(vertices[2, :]),\r\n",
    "        maximum(vertices[2, :]) + 0.5 * maximum(vertices[2, :]),\r\n",
    "    )\r\n",
    "    zlims = (\r\n",
    "        minimum(vertices[3, :]) - 0.5 * maximum(vertices[3, :]),\r\n",
    "        maximum(vertices[3, :]) + 0.5 * maximum(vertices[1, :]),\r\n",
    "    )\r\n",
    "    plot!(fig, xlims = xlims, ylims = ylims, zlims = zlims)\r\n",
    "    plot!(fig; xlabel = \"x\", ylabel = \"y\", zlabel = \"z\")\r\n",
    "\r\n",
    "    return fig\r\n",
    "end\r\n",
    "\r\n",
    "remeshedFig = plotNodesProj(\r\n",
    "    meshC,\r\n",
    "    network,\r\n",
    "    m = 2,\r\n",
    "    l = 3,\r\n",
    "    linecolor = :blue,\r\n",
    "    markershape = :circle,\r\n",
    "    markercolor = :blue,\r\n",
    "    legend = false,\r\n",
    ")"
   ]
  },
  {
   "cell_type": "markdown",
   "metadata": {},
   "source": [
    "### Collisions\r\n",
    "\r\n",
    "So far we've implemented collision detection and resolution. However, collision resolution is still untested. The collision detection algorithm returns whether a collision is imminent."
   ]
  },
  {
   "cell_type": "code",
   "execution_count": null,
   "metadata": {},
   "outputs": [],
   "source": [
    "#=\r\n",
    "    collision == true if a collision was found false otherwise.\r\n",
    "    collisionType == :null if no collision was found, \r\n",
    "        :hinge if two segments sharing a node collide,\r\n",
    "        :twoLine if two unconnected segments collide.\r\n",
    "    n1s1 == node 1 segment 1, n2s1 == node 2 segment 1\r\n",
    "    n1s2 == node 1 segment 2, n2s2 == node 2 segment 2\r\n",
    "    s1 == segment 1, s2 == segment 2\r\n",
    "    L1, L2 == normalised position along the segments where collision will occur\r\n",
    "=#\r\n",
    "collision, collisionType, n1s1, n2s1, n1s2, n2s2, s1, s2, L1, L2 = \r\n",
    "    detectCollision(dlnParams, network)"
   ]
  },
  {
   "cell_type": "markdown",
   "metadata": {},
   "source": [
    "### Dislocation-induced displacements\r\n",
    "\r\n",
    "The code also has the capability of calculating dislocation induced displacements by Bromage and Tarleton [[1]](https://iopscience.iop.org/article/10.1088/1361-651X/aae404/pdf)."
   ]
  },
  {
   "cell_type": "code",
   "execution_count": null,
   "metadata": {},
   "outputs": [],
   "source": [
    "# Dislocation displacements on the displacement nodes.\r\n",
    "uTilde = calc_uTilde(meshC, boundaryC, matParams, network)\r\n",
    "calc_uTilde!(forceDispC, meshC, boundaryC, matParams, network)\r\n",
    "uTilde ≈ forceDispC.uTilde[boundaryC.uDofsDln]"
   ]
  },
  {
   "cell_type": "markdown",
   "metadata": {},
   "source": [
    "### Lazy numeric tractions\r\n",
    "\r\n",
    "We can also calculate lazy numeric tractions for 1 gauss quadrature point directly on finite element nodes."
   ]
  },
  {
   "cell_type": "code",
   "execution_count": null,
   "metadata": {},
   "outputs": [],
   "source": [
    "N, A = getTGammaDlnNormsArea(boundaryC, meshC)\r\n",
    "points = meshC.coord[:, boundaryC.tGammaDln]\r\n",
    "σTilde = calc_σTilde(points, dlnParams, matParams, network)\r\n",
    "T = calcNumericTractions(σTilde, N, A)"
   ]
  },
  {
   "cell_type": "markdown",
   "metadata": {},
   "source": [
    "### Dislocation-induced stresses\r\n",
    "\r\n",
    "We can also calculate dislocation stress fields. Starting with a screw dislocation.\r\n",
    "\r\n",
    "!!! note\r\n",
    "    We have to manually create the dislocation network to generate a straight dislocation line so we have to call `makeConnect!(network)` and `getSegmentIdx!(network)` to generate the connectivity matrix and segment indices."
   ]
  },
  {
   "cell_type": "code",
   "execution_count": null,
   "metadata": {},
   "outputs": [],
   "source": [
    "numNode = 102;\r\n",
    "numSeg = numNode - 1;\r\n",
    "len = numNode + 1;\r\n",
    "xrange = range(-100, 100, length = len);\r\n",
    "yrange = range(-100, 100, length = len);\r\n",
    "\r\n",
    "X = ones(length(yrange)) .* xrange';\r\n",
    "Y = ones(length(xrange))' .* yrange;\r\n",
    "Z = zeros(length(xrange))' .* zeros(len);\r\n",
    "points = [X[:]'; Y[:]'; Z[:]'];\r\n",
    "X, Y, Z = nothing, nothing, nothing;\r\n",
    "\r\n",
    "a = 5 * norm(b)\r\n",
    "\r\n",
    "# We need some dummy parameters.\r\n",
    "matParams =\r\n",
    "    MaterialParameters(; crystalStruct = BCC(), μ = 1.0, μMag = 1.0, ν = 0.28);\r\n",
    "dlnParams = DislocationParameters(;\r\n",
    "    coreRad = a,\r\n",
    "    coreRadMag = 1.0,\r\n",
    "    minSegLen = a + 2,\r\n",
    "    maxSegLen = a + 3,\r\n",
    "    minArea = a + 1,\r\n",
    "    maxArea = a + 2,\r\n",
    "    mobility = mobBCC(),\r\n",
    ");"
   ]
  },
  {
   "cell_type": "code",
   "execution_count": null,
   "metadata": {},
   "outputs": [],
   "source": [
    "# Screw dislocation.\r\n",
    "\r\n",
    "l = Float64[0; 0; 1]\r\n",
    "b = Float64[0; 0; 1]\r\n",
    "n = b × l\r\n",
    "\r\n",
    "links = zeros(Int, 2, numSeg)\r\n",
    "slipPlane = zeros(3, numSeg)\r\n",
    "bVec = zeros(3, numSeg)\r\n",
    "coord = [zeros(len)'; zeros(len)'; xrange']\r\n",
    "label = zeros(nodeTypeDln, len)\r\n",
    "nodeVel = similar(coord)\r\n",
    "nodeForce = similar(coord)\r\n",
    "for i in 1:numSeg\r\n",
    "    links[:, i] .= (i, i + 1)\r\n",
    "    slipPlane[:, i] = n\r\n",
    "    bVec[:, i] = b\r\n",
    "end\r\n",
    "\r\n",
    "network = DislocationNetwork(;\r\n",
    "    links = links,\r\n",
    "    slipPlane = slipPlane,\r\n",
    "    bVec = bVec,\r\n",
    "    coord = coord,\r\n",
    "    label = label,\r\n",
    "    nodeVel = nodeVel,\r\n",
    "    nodeForce = nodeForce,\r\n",
    ")\r\n",
    "makeConnect!(network)\r\n",
    "getSegmentIdx!(network)\r\n",
    "\r\n",
    "# Out of place calculation.\r\n",
    "stress = reshape(calc_σTilde(points, dlnParams, matParams, network), 6, len, :)\r\n",
    "\r\n",
    "σ = zeros(6, size(points, 2))\r\n",
    "# In-place calculation.\r\n",
    "calc_σTilde!(σ, points, dlnParams, matParams, network)\r\n",
    "σ = reshape(σ, 6, len, :)\r\n",
    "\r\n",
    "println(\"σ ≈ stress : \", σ ≈ stress)\r\n",
    "\r\n",
    "figXY = contourf(xrange, yrange, σ[5, :, :], levels = 30)\r\n",
    "figXZ = contourf(xrange, yrange, σ[6, :, :], levels = 30)\r\n"
   ]
  },
  {
   "cell_type": "markdown",
   "metadata": {},
   "source": [
    "And now an edge dislocation."
   ]
  },
  {
   "cell_type": "code",
   "execution_count": null,
   "metadata": {},
   "outputs": [],
   "source": [
    "# Edge dislocation.\r\n",
    "\r\n",
    "l = Float64[0; 0; 1]\r\n",
    "b = Float64[1; 0; 0]\r\n",
    "n = b × l\r\n",
    "\r\n",
    "links = zeros(Int, 2, numSeg)\r\n",
    "slipPlane = zeros(3, numSeg)\r\n",
    "bVec = zeros(3, numSeg)\r\n",
    "coord = [zeros(len)'; zeros(len)'; xrange']\r\n",
    "label = zeros(nodeTypeDln, len)\r\n",
    "nodeVel = similar(coord)\r\n",
    "nodeForce = similar(coord)\r\n",
    "for i in 1:numSeg\r\n",
    "    links[:, i] .= (i, i + 1)\r\n",
    "    slipPlane[:, i] = n\r\n",
    "    bVec[:, i] = b\r\n",
    "end\r\n",
    "\r\n",
    "network = DislocationNetwork(;\r\n",
    "    links = links,\r\n",
    "    slipPlane = slipPlane,\r\n",
    "    bVec = bVec,\r\n",
    "    coord = coord,\r\n",
    "    label = label,\r\n",
    "    nodeVel = nodeVel,\r\n",
    "    nodeForce = nodeForce,\r\n",
    ")\r\n",
    "makeConnect!(network)\r\n",
    "getSegmentIdx!(network)\r\n",
    "\r\n",
    "# Out of place calculation.\r\n",
    "stress = reshape(calc_σTilde(points, dlnParams, matParams, network), 6, len, :)\r\n",
    "\r\n",
    "σ = zeros(6, size(points, 2))\r\n",
    "# In-place calculation.\r\n",
    "calc_σTilde!(σ, points, dlnParams, matParams, network)\r\n",
    "σ = reshape(σ, 6, len, :)\r\n",
    "\r\n",
    "println(\"σ ≈ stress : \", σ ≈ stress)\r\n",
    "\r\n",
    "figXX = contourf(xrange, yrange, σ[1, :, :], levels = 30)\r\n",
    "figYY = contourf(xrange, yrange, σ[2, :, :], levels = 30)\r\n",
    "figZZ = contourf(xrange, yrange, σ[3, :, :], levels = 30)\r\n",
    "figXY = contourf(xrange, yrange, σ[4, :, :], levels = 30)"
   ]
  },
  {
   "cell_type": "markdown",
   "metadata": {},
   "source": [
    "## Future capabilities\r\n",
    "\r\n",
    "- [ ] Post-processing\r\n",
    "    - [ ] Plotting\r\n",
    "        - [ ] Plot recipes\r\n",
    "        - [ ] Nodal displacement and slip step plotting\r\n",
    "        - [ ] Load-displacemen\r\n",
    "        - [ ] Strain-stress\r\n",
    "        - [ ] gif and video generation\r\n",
    "- [ ] Forces\r\n",
    "    - [ ] Inclusions\r\n",
    "    - [ ] Hydrogen\r\n",
    "- [ ] Topology\r\n",
    "    - [ ] Separation\r\n",
    "- [ ] Linear hexahedral FEM\r\n",
    "    - [ ] Boundary conditions\r\n",
    "        - [ ] Nanoindentation\r\n",
    "    - [ ] Load and traction application\r\n",
    "- [ ] FEM-DDD coupling\r\n",
    "- [ ] Dislocation-induced tractions\r\n",
    "    - [ ] Numeric tractions\r\n",
    "    - [ ] Analytic tractions\r\n",
    "- [ ] Mobility\r\n",
    "    - [ ] BCC mobility law\r\n",
    "    - [ ] FCC mobility law\r\n",
    "    - [ ] HCP mobility law"
   ]
  }
 ],
 "metadata": {
  "kernelspec": {
   "display_name": "Julia 1.6.0",
   "language": "julia",
   "name": "julia-1.6"
  },
  "language_info": {
   "name": "julia",
   "version": ""
  },
  "orig_nbformat": 2
 },
 "nbformat": 4,
 "nbformat_minor": 2
}